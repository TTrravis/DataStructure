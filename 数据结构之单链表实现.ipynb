{
 "cells": [
  {
   "cell_type": "markdown",
   "metadata": {},
   "source": [
    "# 链表\n",
    "## 链表的基本结构\n",
    "1. 链表节点，包括数据域和指针域\n",
    "2. 头节点\n",
    "3. 尾节点\n",
    "4. 链表的最后一个节点的指针域None"
   ]
  },
  {
   "cell_type": "code",
   "execution_count": null,
   "metadata": {},
   "outputs": [],
   "source": [
    "#单链表的实现与基本操作\n",
    "class Node:\n",
    "    def __init__(self,data):\n",
    "        self.data=data\n",
    "        self.next=None\n",
    "        return\n",
    "    def has_value(self,value):\n",
    "        if self.data == value:\n",
    "            return True\n",
    "        else:\n",
    "            return False\n",
    "#创建一个单链表\n",
    "class singlelink:\n",
    "    def __init__(self):\n",
    "        self.head=None\n",
    "        self.tail=None\n",
    "        self.length=0\n",
    "        return\n",
    "#判断链表是否为空\n",
    "    def isempty(self):\n",
    "        return self.length==0\n",
    "#向链表尾部添加节点\n",
    "    def add_node(self,item):\n",
    "        if not isinstance(item,Node):#如果对象类型与类名相同则返回True\n",
    "            item = Node(item)\n",
    "        if self.head is Node:\n",
    "            self.head = item\n",
    "        else:\n",
    "            self.tail.next=item\n",
    "            self.tail=item\n",
    "        self.length+=1\n",
    "        return\n",
    "#在链表中插入节点\n",
    "    def insert_node(self,index,data):\n",
    "        if self.isempty():\n",
    "            print(\"this link is empty\")\n",
    "            return\n",
    "        if index<0 or index>=self.length:\n",
    "            print('error:out of index')\n",
    "            return\n",
    "        item=Node(data)\n",
    "        if index==0:\n",
    "            item.next=self.head\n",
    "            self.head=item\n",
    "            self.length+=1\n",
    "            return\n",
    "        j=0\n",
    "        node=self.head\n",
    "        prev=self.head\n",
    "        while node.next and j<index:\n",
    "            prev=node\n",
    "            node=node.next\n",
    "            j+=1\n",
    "        if j==index:\n",
    "            item._next=node\n",
    "            prev._next=item\n",
    "            self.length+=1"
   ]
  }
 ],
 "metadata": {
  "kernelspec": {
   "display_name": "Python 3.10.5 64-bit (windows store)",
   "language": "python",
   "name": "python3"
  },
  "language_info": {
   "name": "python",
   "version": "3.10.5"
  },
  "orig_nbformat": 4,
  "vscode": {
   "interpreter": {
    "hash": "3b8cf3502c03cc30bf28ce722ffe1f4731af194e0f3ab2d0e374d11b9a1ef90b"
   }
  }
 },
 "nbformat": 4,
 "nbformat_minor": 2
}
